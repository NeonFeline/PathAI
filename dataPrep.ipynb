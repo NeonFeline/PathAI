{
 "cells": [
  {
   "cell_type": "code",
   "execution_count": null,
   "id": "ec3fb103-23ae-4a98-8ee5-fae3b391be5b",
   "metadata": {},
   "outputs": [],
   "source": [
    "dataset_img = PathMNIST(split=\"train\", size=224, download=True)"
   ]
  },
  {
   "cell_type": "code",
   "execution_count": null,
   "id": "ea5f4ef6-0807-4798-bd88-ca8de668dcea",
   "metadata": {},
   "outputs": [],
   "source": [
    "plt.pcolormesh(dataset_img[7][0])\n",
    "print(len(dataset_img))"
   ]
  },
  {
   "cell_type": "code",
   "execution_count": null,
   "id": "39d52596-4084-4ac5-b653-bb56cffc21db",
   "metadata": {},
   "outputs": [],
   "source": [
    "class DiseaseDataset(Dataset):\n",
    "    def __init__(self, helperDataset):\n",
    "        \n",
    "        newDatasetInput = []\n",
    "        newDatasetOutput = []\n",
    "        i = 0\n",
    "        with torch.no_grad():\n",
    "            for inp, out in helperDataset:\n",
    "                i += 1\n",
    "                inputs = processor(inp, return_tensors=\"pt\").to(device)\n",
    "                outputs = model(**inputs)\n",
    "        \n",
    "                newDatasetInput.append(torch.mean(outputs.last_hidden_state, axis=1)[0].cpu())\n",
    "                \n",
    "                newDatasetOutput.append(out[0])\n",
    "                if i%1000==0:\n",
    "                    print(\"Yes\")\n",
    "\n",
    "        self.newDatasetInput = torch.tensor(np.array(newDatasetInput)).to(device)\n",
    "        self.newDatasetOutput = torch.tensor(np.array(newDatasetOutput), dtype=torch.int64).to(device)\n",
    "        print(self.newDatasetInput.shape[0])\n",
    "\n",
    "    def __len__(self):\n",
    "        return self.newDatasetInput.shape[0]\n",
    "\n",
    "    def __getitem__(self, idx):\n",
    "        embedding = self.newDatasetInput[idx]\n",
    "        label = self.newDatasetOutput[idx]\n",
    "\n",
    "        return embedding, label"
   ]
  },
  {
   "cell_type": "code",
   "execution_count": null,
   "id": "20fb0a23-46c8-444f-b797-00c1847bd367",
   "metadata": {},
   "outputs": [],
   "source": [
    "import torch\n",
    "import os\n",
    "\n",
    "def save_disease_dataset(dataset, save_dir):\n",
    "    \"\"\"\n",
    "    Saves the processed inputs and outputs of a DiseaseDataset instance.\n",
    "\n",
    "    Args:\n",
    "        dataset (DiseaseDataset): Instance of DiseaseDataset to save.\n",
    "        save_dir (str): Directory where to save the files.\n",
    "    \"\"\"\n",
    "    os.makedirs(save_dir, exist_ok=True)\n",
    "\n",
    "    input_path = os.path.join(save_dir, \"newDatasetInput.pt\")\n",
    "    output_path = os.path.join(save_dir, \"newDatasetOutput.pt\")\n",
    "    \n",
    "    torch.save(dataset.newDatasetInput.cpu(), input_path)\n",
    "    torch.save(dataset.newDatasetOutput.cpu(), output_path)\n",
    "    \n",
    "    print(f\"Saved input embeddings to {input_path}\")\n",
    "    print(f\"Saved output labels to {output_path}\")"
   ]
  }
 ],
 "metadata": {
  "kernelspec": {
   "display_name": "Python 3 (ipykernel)",
   "language": "python",
   "name": "python3"
  },
  "language_info": {
   "codemirror_mode": {
    "name": "ipython",
    "version": 3
   },
   "file_extension": ".py",
   "mimetype": "text/x-python",
   "name": "python",
   "nbconvert_exporter": "python",
   "pygments_lexer": "ipython3",
   "version": "3.12.10"
  }
 },
 "nbformat": 4,
 "nbformat_minor": 5
}
